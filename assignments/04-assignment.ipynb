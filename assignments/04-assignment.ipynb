{
 "cells": [
  {
   "cell_type": "markdown",
   "metadata": {},
   "source": [
    "# QTM 350 - Data Science Computing\n",
    "\n",
    "## Assignment 04: Advanced Git\n",
    "### Due 19 February 2025\n",
    "\n",
    "In this assignment, you will explore Git in more depth, focusing on commands we have not covered in class. You should research how to solve each task using specific Git commands. Feel free to use any tools you prefer to complete the assignment. Explain each command in simple terms. Of course, you are welcome to test them as well! If you have any questions, please let me know.\n",
    "\n",
    "### Questions\n",
    "\n",
    "1. What command would you use to display all the commits that have not yet been pushed to the remote repository?\n",
    "   \n",
    "2. Explain the purpose of the `git tag` command.\n",
    "   \n",
    "3. How do you remove a file from the repository history?\n",
    "   \n",
    "4. How do you temporarily save your changes without committing them?\n",
    "   \n",
    "5. How do you amend the most recent commit message?\n",
    "   \n",
    "6. How can you split a commit into multiple commits?\n",
    "   \n",
    "7. How do you display the changes between two branches?\n",
    "   \n",
    "8. What command would you use to see which remote repository a local repository is connected to?\n",
    "   \n",
    "9.  Explain the difference between `git merge` and `git rebase`.\n",
    "    \n",
    "10. How can you search for a specific commit message?"
   ]
  },
  {
   "cell_type": "markdown",
   "metadata": {},
   "source": [
    "1. The `git log` command can display all the commits that haven't been published to the remote repository.\n",
    "\n",
    "2. The `git tag` command can be used to mark a specific point in the repository's history.\n",
    "\n",
    "3. First, `git-filter-repo` can be used to rewrite the history of your own local repository, which then needs to be updated on GitHub. Then, other collaborators who may have previously accessed the repository must also clean up other clones of the repository (e.g., if they created any branches).\n",
    "\n",
    "4. The `git stash` command can be used to temporarily save your changes without committing them, such as when you need to switch to another branch but don't want to commit your current unfinished work.\n",
    "\n",
    "5. The `git commit --amend` command can be used to change the most recent commit message.\n",
    "\n",
    "6. `git rebase -i <INSERT COMMIT>` can first be used to select which commit you want to split, then change `pick` for that commit to `edit` for the one you want to split. Then, the command `git reset HEAD~` can be used to reset to the previous commit. Afterwards, commit again as usual using `git add` and `git commit`, then `git rebase --continue` to end the commits.\n",
    "\n",
    "7. The command `git diff <INSERT COMMIT 1> <INSERT COMMIT 2>` can be used to show the differences between two branches.\n",
    "\n",
    "8. The command `git remote -v` can show which remote repository a local repository is connected to, in which the `-v` flag shows the URL.\n",
    "\n",
    "9. When you have two branches such as main and feature, `git merge` keeps the history of both branches, and shows that the feature branch was created off of a specific version of main and then merged back at the latest version of main. On the other hand, `git rebase` will not show that a separate branch was created, commited to, and then merged back to main, but applies the commits made in the feature branch directly to main in a sequential, linear history. \n",
    "\n",
    "10. The `git log` command and `grep` function can be used together to search for a specific commit message, such as `git log --all --grep='<INSERT TEXT>'`, in which the `-all` flag searches across all branches."
   ]
  }
 ],
 "metadata": {
  "language_info": {
   "name": "python"
  }
 },
 "nbformat": 4,
 "nbformat_minor": 2
}
